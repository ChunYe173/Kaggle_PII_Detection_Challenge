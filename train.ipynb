{
 "cells": [
  {
   "cell_type": "code",
   "execution_count": 5,
   "metadata": {},
   "outputs": [],
   "source": [
    "import os\n",
    "import json\n",
    "import random\n",
    "from itertools import chain\n",
    "from functools import partial\n",
    "\n",
    "from transformers import AutoTokenizer, AutoModelForTokenClassification, Trainer, TrainingArguments, DataCollatorForTokenClassification\n",
    "from tokenizers import AddedToken\n",
    "import evaluate\n",
    "from datasets import Dataset\n",
    "import numpy as np"
   ]
  },
  {
   "cell_type": "code",
   "execution_count": 21,
   "metadata": {},
   "outputs": [],
   "source": [
    "def filter_no_pii(example, percent_allow=0.2):\n",
    "    # Return True if there is PII\n",
    "    # Or 20% of the time if there isn't\n",
    "    # To remove 80% of entry that only has \"O\" in the labels\n",
    "    import random\n",
    "    has_pii = set(\"O\") != set(example[\"provided_labels\"])\n",
    "\n",
    "    return has_pii or (random.random() < percent_allow)"
   ]
  },
  {
   "cell_type": "code",
   "execution_count": 22,
   "metadata": {},
   "outputs": [],
   "source": [
    "def tokenize(example, tokenizer, label2id, max_length):\n",
    "    import numpy as np\n",
    "    from tokenizers import AddedToken\n",
    "    text = []\n",
    "    labels = []\n",
    "\n",
    "    for t, l, ws in zip(example[\"tokens\"], example[\"provided_labels\"], example[\"trailing_whitespace\"]):\n",
    "\n",
    "        text.append(t)\n",
    "        labels.extend([l]*len(t))\n",
    "        if ws:\n",
    "            text.append(\" \")\n",
    "            labels.append(\"O\")\n",
    "\n",
    "    tokenized = tokenizer(\"\".join(text), return_offsets_mapping=True, max_length=max_length)\n",
    "\n",
    "    labels = np.array(labels)\n",
    "\n",
    "    text = \"\".join(text)\n",
    "    token_labels = []\n",
    "\n",
    "    for start_idx, end_idx in tokenized.offset_mapping:\n",
    "\n",
    "        # CLS token\n",
    "        if start_idx == 0 and end_idx == 0:\n",
    "            token_labels.append(label2id[\"O\"])\n",
    "            continue\n",
    "\n",
    "        # case when token starts with whitespace\n",
    "        if text[start_idx].isspace():\n",
    "            start_idx += 1\n",
    "\n",
    "        while start_idx >= len(labels):\n",
    "            start_idx -= 1\n",
    "\n",
    "        token_labels.append(label2id[labels[start_idx]])\n",
    "\n",
    "    length = len(tokenized.input_ids)\n",
    "\n",
    "    return {\n",
    "        **tokenized,\n",
    "        \"labels\": token_labels,\n",
    "        \"length\": length\n",
    "    }"
   ]
  },
  {
   "cell_type": "code",
   "execution_count": 23,
   "metadata": {},
   "outputs": [],
   "source": [
    "def compute_metrics(p, metric, all_labels):\n",
    "    predictions, labels = p\n",
    "    predictions = np.argmax(predictions, axis=2)\n",
    "\n",
    "    # Remove ignored index (special tokens)\n",
    "    true_predictions = [\n",
    "        [all_labels[p] for (p, l) in zip(prediction, label) if l != -100]\n",
    "        for prediction, label in zip(predictions, labels)\n",
    "    ]\n",
    "    true_labels = [\n",
    "        [all_labels[l] for (p, l) in zip(prediction, label) if l != -100]\n",
    "        for prediction, label in zip(predictions, labels)\n",
    "    ]\n",
    "\n",
    "    results = metric.compute(predictions=true_predictions, references=true_labels)\n",
    "\n",
    "    # Unpack nested dictionaries\n",
    "    final_results = {}\n",
    "    for key, value in results.items():\n",
    "        if isinstance(value, dict):\n",
    "            for n, v in value.items():\n",
    "                final_results[f\"{key}_{n}\"] = v\n",
    "        else:\n",
    "            final_results[key] = value\n",
    "    return final_results"
   ]
  },
  {
   "cell_type": "code",
   "execution_count": 15,
   "metadata": {},
   "outputs": [],
   "source": [
    "def main(training, training_model_path, training_max_length, path_to_datasets, model_save_path):\n",
    "    data = []\n",
    "    for dataset in path_to_datasets:\n",
    "      data.extend(json.load(open(dataset)))\n",
    "\n",
    "    print(type(data)) # == list\n",
    "    print(type(data[0])) # == dict\n",
    "    print((data[0]))\n",
    "    print((data[1]))\n",
    "    print((data[2]))\n",
    "\n",
    "    all_labels = sorted(list(set(chain(*[x[\"labels\"] for x in data]))))\n",
    "    label2id = {l: i for i,l in enumerate(all_labels)}\n",
    "    id2label = {v:k for k,v in label2id.items()}\n",
    "\n",
    "    ds = Dataset.from_dict({\n",
    "        \"full_text\": [x[\"full_text\"] for x in data],\n",
    "        \"document\": [x[\"document\"] for x in data],\n",
    "        \"tokens\": [x[\"tokens\"] for x in data],\n",
    "        \"trailing_whitespace\": [x[\"trailing_whitespace\"] for x in data],\n",
    "        \"provided_labels\": [x[\"labels\"] for x in data] #,b 0.576\n",
    "    })\n",
    "\n",
    "    tokenizer = AutoTokenizer.from_pretrained(training_model_path)\n",
    "\n",
    "    # lots of newlines in the text\n",
    "    # adding this should be helpful\n",
    "    tokenizer.add_tokens(AddedToken(\"\\n\", normalized=False))\n",
    "\n",
    "    ds = ds.filter(\n",
    "        filter_no_pii,\n",
    "        num_proc=2,\n",
    "    )\n",
    "\n",
    "    ds = ds.map(\n",
    "        tokenize,\n",
    "        fn_kwargs={\"tokenizer\": tokenizer, \"label2id\": label2id, \"max_length\": training_max_length},\n",
    "        num_proc=2,\n",
    "    )\n",
    "\n",
    "    metric = evaluate.load(\"seqeval\")\n",
    "\n",
    "    model = AutoModelForTokenClassification.from_pretrained(training_model_path, num_labels=len(all_labels), id2label=id2label, label2id=label2id)\n",
    "    model.resize_token_embeddings(len(tokenizer), pad_to_multiple_of=16)\n",
    "\n",
    "    collator = DataCollatorForTokenClassification(tokenizer, pad_to_multiple_of=16)\n",
    "\n",
    "\n",
    "    ### All possible training arguments that may be defined in may be found here: (To-explore)\n",
    "    # https://github.com/huggingface/transformers/blob/main/src/transformers/training_args.py\n",
    "    args = TrainingArguments(\n",
    "        \"output\",\n",
    "        fp16=False,\n",
    "        learning_rate=5e-5,\n",
    "        weight_decay=0.01,\n",
    "        warmup_ratio=0.1,\n",
    "        per_device_train_batch_size=8,\n",
    "        per_device_eval_batch_size=4,\n",
    "        report_to=\"none\",\n",
    "        evaluation_strategy=\"epoch\",\n",
    "        save_strategy=\"epoch\",\n",
    "        save_total_limit=1,\n",
    "        logging_steps=5,\n",
    "        metric_for_best_model=\"overall_recall\",\n",
    "        greater_is_better=True,\n",
    "        gradient_checkpointing=True,\n",
    "        num_train_epochs=1,\n",
    "        dataloader_num_workers=1,\n",
    "    )\n",
    "\n",
    "    # may want to try to balance classes in splits\n",
    "    final_ds = ds.train_test_split(test_size=0.2)\n",
    "\n",
    "    trainer = Trainer(\n",
    "        model=model,\n",
    "        args=args,\n",
    "        train_dataset=final_ds[\"train\"],\n",
    "        eval_dataset=final_ds[\"test\"],\n",
    "        data_collator=collator,\n",
    "        tokenizer=tokenizer,\n",
    "        compute_metrics=partial(compute_metrics, metric=metric, all_labels=all_labels),\n",
    "    )\n",
    "\n",
    "    print(\"Before training\")\n",
    "    trainer.train()\n",
    "    trainer.save_model(model_save_path) # saves tokenizer with model\n",
    "    trainer.save_state()\n",
    "    return # move the return according to line by line verification progress in this script"
   ]
  },
  {
   "cell_type": "code",
   "execution_count": 16,
   "metadata": {},
   "outputs": [
    {
     "name": "stdout",
     "output_type": "stream",
     "text": [
      "<class 'list'>\n",
      "<class 'dict'>\n",
      "{'document': 7, 'full_text': \"Design Thinking for innovation reflexion-Avril 2021-Nathalie Sylla\\n\\nChallenge & selection\\n\\nThe tool I use to help all stakeholders finding their way through the complexity of a project is the  mind map.\\n\\nWhat exactly is a mind map? According to the definition of Buzan T. and Buzan B. (1999, Dessine-moi  l'intelligence. Paris: Les Éditions d'Organisation.), the mind map (or heuristic diagram) is a graphic  representation technique that follows the natural functioning of the mind and allows the brain's  potential to be released. Cf Annex1\\n\\nThis tool has many advantages:\\n\\n•  It is accessible to all and does not require significant material investment and can be done  quickly\\n\\n•  It is scalable\\n\\n•  It allows categorization and linking of information\\n\\n•  It can be applied to any type of situation: notetaking, problem solving, analysis, creation of  new ideas\\n\\n•  It is suitable for all people and is easy to learn\\n\\n•  It is fun and encourages exchanges\\n\\n•  It makes visible the dimension of projects, opportunities, interconnections\\n\\n•  It synthesizes\\n\\n•  It makes the project understandable\\n\\n•  It allows you to explore ideas\\n\\nThe creation of a mind map starts with an idea/problem located at its center. This starting point  generates ideas/work areas, incremented around this center in a radial structure, which in turn is  completed with as many branches as new ideas.\\n\\nThis tool enables creativity and logic to be mobilized, it is a map of the thoughts.\\n\\nCreativity is enhanced because participants feel comfortable with the method.\\n\\nApplication & Insight\\n\\nI start the process of the mind map creation with the stakeholders standing around a large board  (white or paper board). In the center of the board, I write and highlight the topic to design.\\n\\nThrough a series of questions, I guide the stakeholders in modelling the mind map. I adapt the series  of questions according to the topic to be addressed. In the type of questions, we can use: who, what,  when, where, why, how, how much.\\n\\nThe use of the “why” is very interesting to understand the origin. By this way, the interviewed person  frees itself from paradigms and thus dares to propose new ideas / ways of functioning. I plan two  hours for a workshop.\\n\\nDesign Thinking for innovation reflexion-Avril 2021-Nathalie Sylla\\n\\nAfter modelling the mind map on paper, I propose to the participants a digital visualization of their  work with the addition of color codes, images and interconnections. This second workshop also lasts  two hours and allows the mind map to evolve. Once familiarized with it, the stakeholders discover  the power of the tool. Then, the second workshop brings out even more ideas and constructive  exchanges between the stakeholders. Around this new mind map, they have learned to work  together and want to make visible the untold ideas.\\n\\nI now present all the projects I manage in this type of format in order to ease rapid understanding for  decision-makers. These presentations are the core of my business models. The decision-makers are  thus able to identify the opportunities of the projects and can take quick decisions to validate them.  They find answers to their questions thank to a schematic representation.\\n\\nApproach\\n\\nWhat I find amazing with the facilitation of this type of workshop is the participants commitment for  the project. This tool helps to give meaning. The participants appropriate the story and want to keep  writing it. Then, they easily become actors or sponsors of the project. A trust relationship is built,  thus facilitating the implementation of related actions.\\n\\nDesign Thinking for innovation reflexion-Avril 2021-Nathalie Sylla\\n\\nAnnex 1: Mind Map Shared facilities project\\n\\n\", 'tokens': ['Design', 'Thinking', 'for', 'innovation', 'reflexion', '-', 'Avril', '2021', '-', 'Nathalie', 'Sylla', '\\n\\n', 'Challenge', '&', 'selection', '\\n\\n', 'The', 'tool', 'I', 'use', 'to', 'help', 'all', 'stakeholders', 'finding', 'their', 'way', 'through', 'the', 'complexity', 'of', 'a', 'project', 'is', 'the', ' ', 'mind', 'map', '.', '\\n\\n', 'What', 'exactly', 'is', 'a', 'mind', 'map', '?', 'According', 'to', 'the', 'definition', 'of', 'Buzan', 'T.', 'and', 'Buzan', 'B.', '(', '1999', ',', 'Dessine', '-', 'moi', ' ', \"l'intelligence\", '.', 'Paris', ':', 'Les', 'Éditions', \"d'Organisation\", '.', ')', ',', 'the', 'mind', 'map', '(', 'or', 'heuristic', 'diagram', ')', 'is', 'a', 'graphic', ' ', 'representation', 'technique', 'that', 'follows', 'the', 'natural', 'functioning', 'of', 'the', 'mind', 'and', 'allows', 'the', 'brain', \"'s\", ' ', 'potential', 'to', 'be', 'released', '.', 'Cf', 'Annex1', '\\n\\n', 'This', 'tool', 'has', 'many', 'advantages', ':', '\\n\\n', '•', ' ', 'It', 'is', 'accessible', 'to', 'all', 'and', 'does', 'not', 'require', 'significant', 'material', 'investment', 'and', 'can', 'be', 'done', ' ', 'quickly', '\\n\\n', '•', ' ', 'It', 'is', 'scalable', '\\n\\n', '•', ' ', 'It', 'allows', 'categorization', 'and', 'linking', 'of', 'information', '\\n\\n', '•', ' ', 'It', 'can', 'be', 'applied', 'to', 'any', 'type', 'of', 'situation', ':', 'notetaking', ',', 'problem', 'solving', ',', 'analysis', ',', 'creation', 'of', ' ', 'new', 'ideas', '\\n\\n', '•', ' ', 'It', 'is', 'suitable', 'for', 'all', 'people', 'and', 'is', 'easy', 'to', 'learn', '\\n\\n', '•', ' ', 'It', 'is', 'fun', 'and', 'encourages', 'exchanges', '\\n\\n', '•', ' ', 'It', 'makes', 'visible', 'the', 'dimension', 'of', 'projects', ',', 'opportunities', ',', 'interconnections', '\\n\\n', '•', ' ', 'It', 'synthesizes', '\\n\\n', '•', ' ', 'It', 'makes', 'the', 'project', 'understandable', '\\n\\n', '•', ' ', 'It', 'allows', 'you', 'to', 'explore', 'ideas', '\\n\\n', 'The', 'creation', 'of', 'a', 'mind', 'map', 'starts', 'with', 'an', 'idea', '/', 'problem', 'located', 'at', 'its', 'center', '.', 'This', 'starting', 'point', ' ', 'generates', 'ideas', '/', 'work', 'areas', ',', 'incremented', 'around', 'this', 'center', 'in', 'a', 'radial', 'structure', ',', 'which', 'in', 'turn', 'is', ' ', 'completed', 'with', 'as', 'many', 'branches', 'as', 'new', 'ideas', '.', '\\n\\n', 'This', 'tool', 'enables', 'creativity', 'and', 'logic', 'to', 'be', 'mobilized', ',', 'it', 'is', 'a', 'map', 'of', 'the', 'thoughts', '.', '\\n\\n', 'Creativity', 'is', 'enhanced', 'because', 'participants', 'feel', 'comfortable', 'with', 'the', 'method', '.', '\\n\\n', 'Application', '&', 'Insight', '\\n\\n', 'I', 'start', 'the', 'process', 'of', 'the', 'mind', 'map', 'creation', 'with', 'the', 'stakeholders', 'standing', 'around', 'a', 'large', 'board', ' ', '(', 'white', 'or', 'paper', 'board', ')', '.', 'In', 'the', 'center', 'of', 'the', 'board', ',', 'I', 'write', 'and', 'highlight', 'the', 'topic', 'to', 'design', '.', '\\n\\n', 'Through', 'a', 'series', 'of', 'questions', ',', 'I', 'guide', 'the', 'stakeholders', 'in', 'modelling', 'the', 'mind', 'map', '.', 'I', 'adapt', 'the', 'series', ' ', 'of', 'questions', 'according', 'to', 'the', 'topic', 'to', 'be', 'addressed', '.', 'In', 'the', 'type', 'of', 'questions', ',', 'we', 'can', 'use', ':', 'who', ',', 'what', ',', ' ', 'when', ',', 'where', ',', 'why', ',', 'how', ',', 'how', 'much', '.', '\\n\\n', 'The', 'use', 'of', 'the', '“', 'why', '”', 'is', 'very', 'interesting', 'to', 'understand', 'the', 'origin', '.', 'By', 'this', 'way', ',', 'the', 'interviewed', 'person', ' ', 'frees', 'itself', 'from', 'paradigms', 'and', 'thus', 'dares', 'to', 'propose', 'new', 'ideas', '/', 'ways', 'of', 'functioning', '.', 'I', 'plan', 'two', ' ', 'hours', 'for', 'a', 'workshop', '.', '\\n\\n', 'Design', 'Thinking', 'for', 'innovation', 'reflexion', '-', 'Avril', '2021', '-', 'Nathalie', 'Sylla', '\\n\\n', 'After', 'modelling', 'the', 'mind', 'map', 'on', 'paper', ',', 'I', 'propose', 'to', 'the', 'participants', 'a', 'digital', 'visualization', 'of', 'their', ' ', 'work', 'with', 'the', 'addition', 'of', 'color', 'codes', ',', 'images', 'and', 'interconnections', '.', 'This', 'second', 'workshop', 'also', 'lasts', ' ', 'two', 'hours', 'and', 'allows', 'the', 'mind', 'map', 'to', 'evolve', '.', 'Once', 'familiarized', 'with', 'it', ',', 'the', 'stakeholders', 'discover', ' ', 'the', 'power', 'of', 'the', 'tool', '.', 'Then', ',', 'the', 'second', 'workshop', 'brings', 'out', 'even', 'more', 'ideas', 'and', 'constructive', ' ', 'exchanges', 'between', 'the', 'stakeholders', '.', 'Around', 'this', 'new', 'mind', 'map', ',', 'they', 'have', 'learned', 'to', 'work', ' ', 'together', 'and', 'want', 'to', 'make', 'visible', 'the', 'untold', 'ideas', '.', '\\n\\n', 'I', 'now', 'present', 'all', 'the', 'projects', 'I', 'manage', 'in', 'this', 'type', 'of', 'format', 'in', 'order', 'to', 'ease', 'rapid', 'understanding', 'for', ' ', 'decision', '-', 'makers', '.', 'These', 'presentations', 'are', 'the', 'core', 'of', 'my', 'business', 'models', '.', 'The', 'decision', '-', 'makers', 'are', ' ', 'thus', 'able', 'to', 'identify', 'the', 'opportunities', 'of', 'the', 'projects', 'and', 'can', 'take', 'quick', 'decisions', 'to', 'validate', 'them', '.', ' ', 'They', 'find', 'answers', 'to', 'their', 'questions', 'thank', 'to', 'a', 'schematic', 'representation', '.', '\\n\\n', 'Approach', '\\n\\n', 'What', 'I', 'find', 'amazing', 'with', 'the', 'facilitation', 'of', 'this', 'type', 'of', 'workshop', 'is', 'the', 'participants', 'commitment', 'for', ' ', 'the', 'project', '.', 'This', 'tool', 'helps', 'to', 'give', 'meaning', '.', 'The', 'participants', 'appropriate', 'the', 'story', 'and', 'want', 'to', 'keep', ' ', 'writing', 'it', '.', 'Then', ',', 'they', 'easily', 'become', 'actors', 'or', 'sponsors', 'of', 'the', 'project', '.', 'A', 'trust', 'relationship', 'is', 'built', ',', ' ', 'thus', 'facilitating', 'the', 'implementation', 'of', 'related', 'actions', '.', '\\n\\n', 'Design', 'Thinking', 'for', 'innovation', 'reflexion', '-', 'Avril', '2021', '-', 'Nathalie', 'Sylla', '\\n\\n', 'Annex', '1', ':', 'Mind', 'Map', 'Shared', 'facilities', 'project', '\\n\\n'], 'trailing_whitespace': [True, True, True, True, False, False, True, False, False, True, False, False, True, True, False, False, True, True, True, True, True, True, True, True, True, True, True, True, True, True, True, True, True, True, True, False, True, False, False, False, True, True, True, True, True, False, True, True, True, True, True, True, True, True, True, True, True, False, False, True, False, False, True, False, False, True, False, True, True, True, False, False, False, True, True, True, True, False, True, True, False, True, True, True, True, False, True, True, True, True, True, True, True, True, True, True, True, True, True, False, True, False, True, True, True, False, True, True, False, False, True, True, True, True, False, False, False, True, False, True, True, True, True, True, True, True, True, True, True, True, True, True, True, True, True, False, False, False, True, False, True, True, False, False, True, False, True, True, True, True, True, True, False, False, True, False, True, True, True, True, True, True, True, True, False, True, False, True, True, False, True, False, True, True, True, False, True, False, False, True, False, True, True, True, True, True, True, True, True, True, True, False, False, True, False, True, True, True, True, True, False, False, True, False, True, True, True, True, True, True, False, True, False, True, False, False, True, False, True, False, False, True, False, True, True, True, True, False, False, True, False, True, True, True, True, True, False, False, True, True, True, True, True, True, True, True, True, False, False, True, True, True, True, False, True, True, True, True, False, True, False, False, True, False, True, True, True, True, True, True, True, True, False, True, True, True, True, True, False, True, True, True, True, True, True, True, False, False, False, True, True, True, True, True, True, True, True, False, True, True, True, True, True, True, True, False, False, False, True, True, True, True, True, True, True, True, True, False, False, False, True, True, False, False, True, True, True, True, True, True, True, True, True, True, True, True, True, True, True, True, True, False, False, True, True, True, False, False, True, True, True, True, True, True, False, True, True, True, True, True, True, True, True, False, False, False, True, True, True, True, False, True, True, True, True, True, True, True, True, True, False, True, True, True, True, True, False, True, True, True, True, True, True, True, True, False, True, True, True, True, True, False, True, True, True, False, True, False, True, False, True, False, False, True, False, True, False, True, False, True, True, False, False, False, True, True, True, True, False, False, True, True, True, True, True, True, True, False, True, True, True, False, True, True, True, True, False, True, True, True, True, True, True, True, True, True, True, True, True, True, True, False, True, True, True, True, False, True, True, True, False, False, False, True, True, True, True, False, False, True, False, False, True, False, False, True, True, True, True, True, True, False, True, True, True, True, True, True, True, True, True, True, True, False, True, True, True, True, True, True, False, True, True, True, False, True, True, True, True, True, True, False, True, True, True, True, True, True, True, True, False, True, True, True, True, False, True, True, True, True, False, True, True, True, True, False, True, False, True, True, True, True, True, True, True, True, True, True, True, False, True, True, True, False, True, True, True, True, True, False, True, True, True, True, True, True, False, True, True, True, True, True, True, True, True, False, False, False, True, True, True, True, True, True, True, True, True, True, True, True, True, True, True, True, True, True, True, True, False, False, False, False, True, True, True, True, True, True, True, True, True, False, True, True, False, False, True, True, False, True, True, True, True, True, True, True, True, True, True, True, True, True, True, True, True, False, True, False, True, True, True, True, True, True, True, True, True, True, False, False, False, False, False, True, True, True, True, True, True, True, True, True, True, True, True, True, True, True, True, True, False, True, False, True, True, True, True, True, True, False, True, True, True, True, True, True, True, True, True, True, False, True, False, True, False, True, True, True, True, True, True, True, True, True, False, True, True, True, True, True, False, True, False, True, True, True, True, True, True, False, False, False, True, True, True, True, False, False, True, False, False, True, False, False, True, False, True, True, True, True, True, False, False], 'labels': ['O', 'O', 'O', 'O', 'O', 'O', 'O', 'O', 'O', 'B-NAME_STUDENT', 'I-NAME_STUDENT', 'O', 'O', 'O', 'O', 'O', 'O', 'O', 'O', 'O', 'O', 'O', 'O', 'O', 'O', 'O', 'O', 'O', 'O', 'O', 'O', 'O', 'O', 'O', 'O', 'O', 'O', 'O', 'O', 'O', 'O', 'O', 'O', 'O', 'O', 'O', 'O', 'O', 'O', 'O', 'O', 'O', 'O', 'O', 'O', 'O', 'O', 'O', 'O', 'O', 'O', 'O', 'O', 'O', 'O', 'O', 'O', 'O', 'O', 'O', 'O', 'O', 'O', 'O', 'O', 'O', 'O', 'O', 'O', 'O', 'O', 'O', 'O', 'O', 'O', 'O', 'O', 'O', 'O', 'O', 'O', 'O', 'O', 'O', 'O', 'O', 'O', 'O', 'O', 'O', 'O', 'O', 'O', 'O', 'O', 'O', 'O', 'O', 'O', 'O', 'O', 'O', 'O', 'O', 'O', 'O', 'O', 'O', 'O', 'O', 'O', 'O', 'O', 'O', 'O', 'O', 'O', 'O', 'O', 'O', 'O', 'O', 'O', 'O', 'O', 'O', 'O', 'O', 'O', 'O', 'O', 'O', 'O', 'O', 'O', 'O', 'O', 'O', 'O', 'O', 'O', 'O', 'O', 'O', 'O', 'O', 'O', 'O', 'O', 'O', 'O', 'O', 'O', 'O', 'O', 'O', 'O', 'O', 'O', 'O', 'O', 'O', 'O', 'O', 'O', 'O', 'O', 'O', 'O', 'O', 'O', 'O', 'O', 'O', 'O', 'O', 'O', 'O', 'O', 'O', 'O', 'O', 'O', 'O', 'O', 'O', 'O', 'O', 'O', 'O', 'O', 'O', 'O', 'O', 'O', 'O', 'O', 'O', 'O', 'O', 'O', 'O', 'O', 'O', 'O', 'O', 'O', 'O', 'O', 'O', 'O', 'O', 'O', 'O', 'O', 'O', 'O', 'O', 'O', 'O', 'O', 'O', 'O', 'O', 'O', 'O', 'O', 'O', 'O', 'O', 'O', 'O', 'O', 'O', 'O', 'O', 'O', 'O', 'O', 'O', 'O', 'O', 'O', 'O', 'O', 'O', 'O', 'O', 'O', 'O', 'O', 'O', 'O', 'O', 'O', 'O', 'O', 'O', 'O', 'O', 'O', 'O', 'O', 'O', 'O', 'O', 'O', 'O', 'O', 'O', 'O', 'O', 'O', 'O', 'O', 'O', 'O', 'O', 'O', 'O', 'O', 'O', 'O', 'O', 'O', 'O', 'O', 'O', 'O', 'O', 'O', 'O', 'O', 'O', 'O', 'O', 'O', 'O', 'O', 'O', 'O', 'O', 'O', 'O', 'O', 'O', 'O', 'O', 'O', 'O', 'O', 'O', 'O', 'O', 'O', 'O', 'O', 'O', 'O', 'O', 'O', 'O', 'O', 'O', 'O', 'O', 'O', 'O', 'O', 'O', 'O', 'O', 'O', 'O', 'O', 'O', 'O', 'O', 'O', 'O', 'O', 'O', 'O', 'O', 'O', 'O', 'O', 'O', 'O', 'O', 'O', 'O', 'O', 'O', 'O', 'O', 'O', 'O', 'O', 'O', 'O', 'O', 'O', 'O', 'O', 'O', 'O', 'O', 'O', 'O', 'O', 'O', 'O', 'O', 'O', 'O', 'O', 'O', 'O', 'O', 'O', 'O', 'O', 'O', 'O', 'O', 'O', 'O', 'O', 'O', 'O', 'O', 'O', 'O', 'O', 'O', 'O', 'O', 'O', 'O', 'O', 'O', 'O', 'O', 'O', 'O', 'O', 'O', 'O', 'O', 'O', 'O', 'O', 'O', 'O', 'O', 'O', 'O', 'O', 'O', 'O', 'O', 'O', 'O', 'O', 'O', 'O', 'O', 'O', 'O', 'O', 'O', 'O', 'O', 'O', 'O', 'O', 'O', 'O', 'O', 'O', 'O', 'O', 'O', 'O', 'O', 'O', 'O', 'O', 'O', 'O', 'O', 'O', 'O', 'O', 'O', 'O', 'O', 'O', 'O', 'O', 'O', 'O', 'O', 'O', 'O', 'O', 'O', 'O', 'O', 'O', 'O', 'B-NAME_STUDENT', 'I-NAME_STUDENT', 'O', 'O', 'O', 'O', 'O', 'O', 'O', 'O', 'O', 'O', 'O', 'O', 'O', 'O', 'O', 'O', 'O', 'O', 'O', 'O', 'O', 'O', 'O', 'O', 'O', 'O', 'O', 'O', 'O', 'O', 'O', 'O', 'O', 'O', 'O', 'O', 'O', 'O', 'O', 'O', 'O', 'O', 'O', 'O', 'O', 'O', 'O', 'O', 'O', 'O', 'O', 'O', 'O', 'O', 'O', 'O', 'O', 'O', 'O', 'O', 'O', 'O', 'O', 'O', 'O', 'O', 'O', 'O', 'O', 'O', 'O', 'O', 'O', 'O', 'O', 'O', 'O', 'O', 'O', 'O', 'O', 'O', 'O', 'O', 'O', 'O', 'O', 'O', 'O', 'O', 'O', 'O', 'O', 'O', 'O', 'O', 'O', 'O', 'O', 'O', 'O', 'O', 'O', 'O', 'O', 'O', 'O', 'O', 'O', 'O', 'O', 'O', 'O', 'O', 'O', 'O', 'O', 'O', 'O', 'O', 'O', 'O', 'O', 'O', 'O', 'O', 'O', 'O', 'O', 'O', 'O', 'O', 'O', 'O', 'O', 'O', 'O', 'O', 'O', 'O', 'O', 'O', 'O', 'O', 'O', 'O', 'O', 'O', 'O', 'O', 'O', 'O', 'O', 'O', 'O', 'O', 'O', 'O', 'O', 'O', 'O', 'O', 'O', 'O', 'O', 'O', 'O', 'O', 'O', 'O', 'O', 'O', 'O', 'O', 'O', 'O', 'O', 'O', 'O', 'O', 'O', 'O', 'O', 'O', 'O', 'O', 'O', 'O', 'O', 'O', 'O', 'O', 'O', 'O', 'O', 'O', 'O', 'O', 'O', 'O', 'O', 'O', 'O', 'O', 'O', 'O', 'O', 'O', 'O', 'O', 'O', 'O', 'O', 'O', 'O', 'O', 'O', 'O', 'O', 'O', 'O', 'O', 'O', 'O', 'O', 'O', 'O', 'O', 'O', 'O', 'O', 'O', 'O', 'O', 'O', 'O', 'O', 'O', 'O', 'O', 'O', 'O', 'O', 'O', 'O', 'O', 'O', 'O', 'O', 'O', 'O', 'O', 'O', 'O', 'O', 'O', 'O', 'B-NAME_STUDENT', 'I-NAME_STUDENT', 'O', 'O', 'O', 'O', 'O', 'O', 'O', 'O', 'O', 'O']}\n",
      "{'document': 10, 'full_text': 'Diego Estrada\\n\\nDesign Thinking Assignment\\n\\nVisualization Tool\\n\\nChallenge & Selection\\n\\nThe elderly were having a hard time adapting to the changes we brought in our bank. As  a result of a poorly implemented linear solution, a more customer centric approach was  needed.\\n\\nAfter learning about design thinking in this course, we decided to apply it to solve this  problem. The visualization tool allowed the team to create a dynamic presentation using  diagrams, figures and drawings on the go that really resonated among the stakeholders.  Previous to this change, none of our solutions seemed to be adequate for them, but the  new implementation created a different type of connection with them that helped them  understand the problem in the way the team and I did.\\n\\nApplication\\n\\nThe process starts in the prep time. The team uses a series of tools and software to  develop a presentation using the surveys gathered during research and the solutions we  created during the process. The use of graphs to quickly show statistics in a fully visual  way, rather than verbally was a game changer.\\n\\nAfter having a presentation prepared, the team hands an activity to the stakeholders,  where the solutions discussed previously appear. Nonetheless, the solutions need more  work to them. After this. The stakeholders are asked to help complete the solutions  while the team and I create diagrams on a blackboard to represent how their  suggestions would impact on this specific problem.\\n\\nThe use of a group activity strengthens the bond between the company and their  investors. It makes them feel like they take part and help solve the problems as well as  show how customer centric the solutions are. Every complaint and suggestion from  customers are read and evaluated using the graph shown in the course (Involving: can  we do it? Can we afford it? …). The finalization of this activity leaves the team and the  stakeholders on the same page. It allows them to completely understand and feel part  of the solution and also gives them the chance to ask better questions, which eases the  work of the team.\\n\\nInsight & Approach\\n\\nThe use of this method created a new workflow in the Design Team. It increased the  productivity and the success rate as well as the customer/stakeholders satisfaction. The  use of the visualization tool created an engaged group of people who work together to\\n\\nDiego Estrada\\n\\nfind a solution based on their customer satisfaction. This solution is later revised and  tweaked with the help of the stakeholders who are deeply involved in the process.\\n\\nPresentations, graphics, and activities have added a huge increase in satisfaction. As a  company we also learnt that engaging different areas can be difficult because of the  varying levels of understanding, but when paired with the adequate process things just  flow.\\n\\n(This story is fictional and was created for solving the assignment)\\n\\n', 'tokens': ['Diego', 'Estrada', '\\n\\n', 'Design', 'Thinking', 'Assignment', '\\n\\n', 'Visualization', 'Tool', '\\n\\n', 'Challenge', '&', 'Selection', '\\n\\n', 'The', 'elderly', 'were', 'having', 'a', 'hard', 'time', 'adapting', 'to', 'the', 'changes', 'we', 'brought', 'in', 'our', 'bank', '.', 'As', ' ', 'a', 'result', 'of', 'a', 'poorly', 'implemented', 'linear', 'solution', ',', 'a', 'more', 'customer', 'centric', 'approach', 'was', ' ', 'needed', '.', '\\n\\n', 'After', 'learning', 'about', 'design', 'thinking', 'in', 'this', 'course', ',', 'we', 'decided', 'to', 'apply', 'it', 'to', 'solve', 'this', ' ', 'problem', '.', 'The', 'visualization', 'tool', 'allowed', 'the', 'team', 'to', 'create', 'a', 'dynamic', 'presentation', 'using', ' ', 'diagrams', ',', 'figures', 'and', 'drawings', 'on', 'the', 'go', 'that', 'really', 'resonated', 'among', 'the', 'stakeholders', '.', ' ', 'Previous', 'to', 'this', 'change', ',', 'none', 'of', 'our', 'solutions', 'seemed', 'to', 'be', 'adequate', 'for', 'them', ',', 'but', 'the', ' ', 'new', 'implementation', 'created', 'a', 'different', 'type', 'of', 'connection', 'with', 'them', 'that', 'helped', 'them', ' ', 'understand', 'the', 'problem', 'in', 'the', 'way', 'the', 'team', 'and', 'I', 'did', '.', '\\n\\n', 'Application', '\\n\\n', 'The', 'process', 'starts', 'in', 'the', 'prep', 'time', '.', 'The', 'team', 'uses', 'a', 'series', 'of', 'tools', 'and', 'software', 'to', ' ', 'develop', 'a', 'presentation', 'using', 'the', 'surveys', 'gathered', 'during', 'research', 'and', 'the', 'solutions', 'we', ' ', 'created', 'during', 'the', 'process', '.', 'The', 'use', 'of', 'graphs', 'to', 'quickly', 'show', 'statistics', 'in', 'a', 'fully', 'visual', ' ', 'way', ',', 'rather', 'than', 'verbally', 'was', 'a', 'game', 'changer', '.', '\\n\\n', 'After', 'having', 'a', 'presentation', 'prepared', ',', 'the', 'team', 'hands', 'an', 'activity', 'to', 'the', 'stakeholders', ',', ' ', 'where', 'the', 'solutions', 'discussed', 'previously', 'appear', '.', 'Nonetheless', ',', 'the', 'solutions', 'need', 'more', ' ', 'work', 'to', 'them', '.', 'After', 'this', '.', 'The', 'stakeholders', 'are', 'asked', 'to', 'help', 'complete', 'the', 'solutions', ' ', 'while', 'the', 'team', 'and', 'I', 'create', 'diagrams', 'on', 'a', 'blackboard', 'to', 'represent', 'how', 'their', ' ', 'suggestions', 'would', 'impact', 'on', 'this', 'specific', 'problem', '.', '\\n\\n', 'The', 'use', 'of', 'a', 'group', 'activity', 'strengthens', 'the', 'bond', 'between', 'the', 'company', 'and', 'their', ' ', 'investors', '.', 'It', 'makes', 'them', 'feel', 'like', 'they', 'take', 'part', 'and', 'help', 'solve', 'the', 'problems', 'as', 'well', 'as', ' ', 'show', 'how', 'customer', 'centric', 'the', 'solutions', 'are', '.', 'Every', 'complaint', 'and', 'suggestion', 'from', ' ', 'customers', 'are', 'read', 'and', 'evaluated', 'using', 'the', 'graph', 'shown', 'in', 'the', 'course', '(', 'Involving', ':', 'can', ' ', 'we', 'do', 'it', '?', 'Can', 'we', 'afford', 'it', '?', '…', ')', '.', 'The', 'finalization', 'of', 'this', 'activity', 'leaves', 'the', 'team', 'and', 'the', ' ', 'stakeholders', 'on', 'the', 'same', 'page', '.', 'It', 'allows', 'them', 'to', 'completely', 'understand', 'and', 'feel', 'part', ' ', 'of', 'the', 'solution', 'and', 'also', 'gives', 'them', 'the', 'chance', 'to', 'ask', 'better', 'questions', ',', 'which', 'eases', 'the', ' ', 'work', 'of', 'the', 'team', '.', '\\n\\n', 'Insight', '&', 'Approach', '\\n\\n', 'The', 'use', 'of', 'this', 'method', 'created', 'a', 'new', 'workflow', 'in', 'the', 'Design', 'Team', '.', 'It', 'increased', 'the', ' ', 'productivity', 'and', 'the', 'success', 'rate', 'as', 'well', 'as', 'the', 'customer', '/', 'stakeholders', 'satisfaction', '.', 'The', ' ', 'use', 'of', 'the', 'visualization', 'tool', 'created', 'an', 'engaged', 'group', 'of', 'people', 'who', 'work', 'together', 'to', '\\n\\n', 'Diego', 'Estrada', '\\n\\n', 'find', 'a', 'solution', 'based', 'on', 'their', 'customer', 'satisfaction', '.', 'This', 'solution', 'is', 'later', 'revised', 'and', ' ', 'tweaked', 'with', 'the', 'help', 'of', 'the', 'stakeholders', 'who', 'are', 'deeply', 'involved', 'in', 'the', 'process', '.', '\\n\\n', 'Presentations', ',', 'graphics', ',', 'and', 'activities', 'have', 'added', 'a', 'huge', 'increase', 'in', 'satisfaction', '.', 'As', 'a', ' ', 'company', 'we', 'also', 'learnt', 'that', 'engaging', 'different', 'areas', 'can', 'be', 'difficult', 'because', 'of', 'the', ' ', 'varying', 'levels', 'of', 'understanding', ',', 'but', 'when', 'paired', 'with', 'the', 'adequate', 'process', 'things', 'just', ' ', 'flow', '.', '\\n\\n', '(', 'This', 'story', 'is', 'fictional', 'and', 'was', 'created', 'for', 'solving', 'the', 'assignment', ')', '\\n\\n'], 'trailing_whitespace': [True, False, False, True, True, False, False, True, False, False, True, True, False, False, True, True, True, True, True, True, True, True, True, True, True, True, True, True, True, False, True, True, False, True, True, True, True, True, True, True, False, True, True, True, True, True, True, True, False, False, False, False, True, True, True, True, True, True, True, False, True, True, True, True, True, True, True, True, True, False, False, True, True, True, True, True, True, True, True, True, True, True, True, True, False, False, True, True, True, True, True, True, True, True, True, True, True, True, False, True, False, True, True, True, False, True, True, True, True, True, True, True, True, True, True, False, True, True, True, False, True, True, True, True, True, True, True, True, True, True, True, True, True, False, True, True, True, True, True, True, True, True, True, True, False, False, False, False, False, True, True, True, True, True, True, False, True, True, True, True, True, True, True, True, True, True, True, False, True, True, True, True, True, True, True, True, True, True, True, True, True, False, True, True, True, False, True, True, True, True, True, True, True, True, True, True, True, True, True, False, False, True, True, True, True, True, True, True, False, False, False, True, True, True, True, False, True, True, True, True, True, True, True, True, False, True, False, True, True, True, True, True, False, True, False, True, True, True, True, True, False, True, True, False, True, True, False, True, True, True, True, True, True, True, True, True, True, False, True, True, True, True, True, True, True, True, True, True, True, True, True, True, False, True, True, True, True, True, True, False, False, False, True, True, True, True, True, True, True, True, True, True, True, True, True, True, False, False, True, True, True, True, True, True, True, True, True, True, True, True, True, True, True, True, True, False, True, True, True, True, True, True, False, True, True, True, True, True, True, False, True, True, True, True, True, True, True, True, True, True, True, True, False, False, True, True, False, True, True, False, True, True, True, True, False, True, False, False, True, True, True, True, True, True, True, True, True, True, True, False, True, True, True, True, False, True, True, True, True, True, True, True, True, True, True, False, True, True, True, True, True, True, True, True, True, True, True, True, False, True, True, True, True, False, True, True, True, False, False, False, True, True, False, False, True, True, True, True, True, True, True, True, True, True, True, True, False, True, True, True, True, False, True, True, True, True, True, True, True, True, True, False, False, True, False, True, True, False, True, True, True, True, True, True, True, True, True, True, True, True, True, True, False, False, True, False, False, True, True, True, True, True, True, True, False, True, True, True, True, True, True, True, False, True, True, True, True, True, True, True, True, True, True, True, True, True, False, False, False, False, True, False, True, True, True, True, True, True, True, True, True, False, True, True, True, False, True, True, True, True, True, True, True, True, True, True, True, True, True, True, False, True, True, True, False, True, True, True, True, True, True, True, True, True, True, False, False, False, False, False, True, True, True, True, True, True, True, True, True, True, False, False, False], 'labels': ['B-NAME_STUDENT', 'I-NAME_STUDENT', 'O', 'O', 'O', 'O', 'O', 'O', 'O', 'O', 'O', 'O', 'O', 'O', 'O', 'O', 'O', 'O', 'O', 'O', 'O', 'O', 'O', 'O', 'O', 'O', 'O', 'O', 'O', 'O', 'O', 'O', 'O', 'O', 'O', 'O', 'O', 'O', 'O', 'O', 'O', 'O', 'O', 'O', 'O', 'O', 'O', 'O', 'O', 'O', 'O', 'O', 'O', 'O', 'O', 'O', 'O', 'O', 'O', 'O', 'O', 'O', 'O', 'O', 'O', 'O', 'O', 'O', 'O', 'O', 'O', 'O', 'O', 'O', 'O', 'O', 'O', 'O', 'O', 'O', 'O', 'O', 'O', 'O', 'O', 'O', 'O', 'O', 'O', 'O', 'O', 'O', 'O', 'O', 'O', 'O', 'O', 'O', 'O', 'O', 'O', 'O', 'O', 'O', 'O', 'O', 'O', 'O', 'O', 'O', 'O', 'O', 'O', 'O', 'O', 'O', 'O', 'O', 'O', 'O', 'O', 'O', 'O', 'O', 'O', 'O', 'O', 'O', 'O', 'O', 'O', 'O', 'O', 'O', 'O', 'O', 'O', 'O', 'O', 'O', 'O', 'O', 'O', 'O', 'O', 'O', 'O', 'O', 'O', 'O', 'O', 'O', 'O', 'O', 'O', 'O', 'O', 'O', 'O', 'O', 'O', 'O', 'O', 'O', 'O', 'O', 'O', 'O', 'O', 'O', 'O', 'O', 'O', 'O', 'O', 'O', 'O', 'O', 'O', 'O', 'O', 'O', 'O', 'O', 'O', 'O', 'O', 'O', 'O', 'O', 'O', 'O', 'O', 'O', 'O', 'O', 'O', 'O', 'O', 'O', 'O', 'O', 'O', 'O', 'O', 'O', 'O', 'O', 'O', 'O', 'O', 'O', 'O', 'O', 'O', 'O', 'O', 'O', 'O', 'O', 'O', 'O', 'O', 'O', 'O', 'O', 'O', 'O', 'O', 'O', 'O', 'O', 'O', 'O', 'O', 'O', 'O', 'O', 'O', 'O', 'O', 'O', 'O', 'O', 'O', 'O', 'O', 'O', 'O', 'O', 'O', 'O', 'O', 'O', 'O', 'O', 'O', 'O', 'O', 'O', 'O', 'O', 'O', 'O', 'O', 'O', 'O', 'O', 'O', 'O', 'O', 'O', 'O', 'O', 'O', 'O', 'O', 'O', 'O', 'O', 'O', 'O', 'O', 'O', 'O', 'O', 'O', 'O', 'O', 'O', 'O', 'O', 'O', 'O', 'O', 'O', 'O', 'O', 'O', 'O', 'O', 'O', 'O', 'O', 'O', 'O', 'O', 'O', 'O', 'O', 'O', 'O', 'O', 'O', 'O', 'O', 'O', 'O', 'O', 'O', 'O', 'O', 'O', 'O', 'O', 'O', 'O', 'O', 'O', 'O', 'O', 'O', 'O', 'O', 'O', 'O', 'O', 'O', 'O', 'O', 'O', 'O', 'O', 'O', 'O', 'O', 'O', 'O', 'O', 'O', 'O', 'O', 'O', 'O', 'O', 'O', 'O', 'O', 'O', 'O', 'O', 'O', 'O', 'O', 'O', 'O', 'O', 'O', 'O', 'O', 'O', 'O', 'O', 'O', 'O', 'O', 'O', 'O', 'O', 'O', 'O', 'O', 'O', 'O', 'O', 'O', 'O', 'O', 'O', 'O', 'O', 'O', 'O', 'O', 'O', 'O', 'O', 'O', 'O', 'O', 'O', 'O', 'O', 'O', 'O', 'O', 'O', 'O', 'O', 'O', 'O', 'O', 'O', 'O', 'O', 'O', 'O', 'O', 'O', 'O', 'O', 'O', 'O', 'O', 'O', 'O', 'O', 'O', 'O', 'O', 'O', 'O', 'O', 'O', 'O', 'O', 'O', 'O', 'O', 'O', 'O', 'O', 'O', 'O', 'O', 'O', 'O', 'O', 'O', 'O', 'O', 'O', 'O', 'O', 'O', 'O', 'O', 'O', 'O', 'O', 'O', 'O', 'O', 'O', 'B-NAME_STUDENT', 'I-NAME_STUDENT', 'O', 'O', 'O', 'O', 'O', 'O', 'O', 'O', 'O', 'O', 'O', 'O', 'O', 'O', 'O', 'O', 'O', 'O', 'O', 'O', 'O', 'O', 'O', 'O', 'O', 'O', 'O', 'O', 'O', 'O', 'O', 'O', 'O', 'O', 'O', 'O', 'O', 'O', 'O', 'O', 'O', 'O', 'O', 'O', 'O', 'O', 'O', 'O', 'O', 'O', 'O', 'O', 'O', 'O', 'O', 'O', 'O', 'O', 'O', 'O', 'O', 'O', 'O', 'O', 'O', 'O', 'O', 'O', 'O', 'O', 'O', 'O', 'O', 'O', 'O', 'O', 'O', 'O', 'O', 'O', 'O', 'O', 'O', 'O', 'O', 'O', 'O', 'O', 'O', 'O', 'O', 'O', 'O', 'O', 'O', 'O', 'O']}\n",
      "{'document': 16, 'full_text': 'Reporting process\\n\\nby Gilberto Gamboa\\n\\nChallenge\\n\\nI received a promotion of being the Regional Controller, along with my actual position of\\n\\nCountry CFO. The main responsibility of this new position was to weekly report the results\\n\\nfor the week and estimate the final results of the month of 4 countries and consolidated\\n\\nthose.\\n\\nWhen I was receiving the position, I went to visit my colleague, former Regional Controller,\\n\\nwho was promoted to Country CEO and now had interest conflicts of being the controller.\\n\\nThe process to consolidate the information of the 4 countries was that the country controllers\\n\\nsent him an email with the main figures for the week, he forwarded those to his country\\n\\naccountant who consolidated it, the accountant sent him the consolidated report and he\\n\\nfinally reported to the headquarters. The whole process took almost a full business day to\\n\\ncomplete.\\n\\nGiven that my responsibilities as Country CFO demanded more attention because my\\n\\ncountry had more operations, I decided to change the process in order to reduce the\\n\\nduration and to ensure standardization in the format, and actually, reduce the human\\n\\nintervention, making that the country controllers work directly in the consolidation file.\\n\\nSelection\\n\\nHaving in mind that there was a different kind of users of file, I select some of those to\\n\\ndetermine what was the main important things to take into account in the moment of the\\n\\nprocess of the information and the reading of the same. In that sense, we form a group of\\n\\nthe country controllers, country CEOs, IT guys, and people from the headquarters to find the\\n\\nbest solutions possible.\\n\\nApplication\\n\\nFor the first lunch, we focused on the consolidation process in order to avoid the copy-paste\\n\\nprocesses and reducing the manual intervention so, we build an online application where all\\n\\nthe controllers fill the figure of their respective country, along with the comments. During the\\n\\nfirst week of the first stage, we sent the new report along with the old one, and after the\\n\\nmeeting with the headquarters team, we ask for a post-meeting review of the new format, all\\n\\nthe assistants provided their comments and suggestions that were the input for the next\\n\\nreport.\\n\\nFor the second lunch, we focused on the feedback received from the assistants to the review\\n\\nmeeting, we adjust the report and we were able to eliminate the old one. The final report\\n\\nincluded all the suggestions received but the best of all is that reduced the time investment\\n\\nfrom about 36 men hours to around 8, without missing any valuable information and\\n\\nincluding new data that the stakeholders appreciated so much.\\n\\nInsight\\n\\nWith the application of the learning launch tool, the controller’s team along with the main\\n\\nstakeholders identified different assumptions and designed tools to test these assumptions.\\n\\nOn the other hand, we found probable requirements from headquarters, expecting to find\\n\\nthat a more agile approach that improved the workflow, reduced the time investment of\\n\\neveryone in the team and that both our team and the key stakeholders were very satisfied\\n\\nwith the results of the exercise and the new report.\\n\\nThe final report was slightly different from what we anticipated, but the differences were\\n\\nmore related to form and a few topics to be included in the report.\\n\\nApproach\\n\\nDespite that, the team was not used to design thinking tools, they were able to work with the\\n\\nlearning launch that was the appropriate tool. The team needs to review the insight gained\\n\\nfrom our first two launches and continuously evaluate this insight and new ones into future\\n\\nlaunch designs, especially taking into account that the full automation of the reports will take\\n\\nat least 4 years more according to the ERP implementation plan of the headquarter.\\n\\n', 'tokens': ['Reporting', 'process', '\\n\\n', 'by', 'Gilberto', 'Gamboa', '\\n\\n', 'Challenge', '\\n\\n', 'I', 'received', 'a', 'promotion', 'of', 'being', 'the', 'Regional', 'Controller', ',', 'along', 'with', 'my', 'actual', 'position', 'of', '\\n\\n', 'Country', 'CFO', '.', 'The', 'main', 'responsibility', 'of', 'this', 'new', 'position', 'was', 'to', 'weekly', 'report', 'the', 'results', '\\n\\n', 'for', 'the', 'week', 'and', 'estimate', 'the', 'final', 'results', 'of', 'the', 'month', 'of', '4', 'countries', 'and', 'consolidated', '\\n\\n', 'those', '.', '\\n\\n', 'When', 'I', 'was', 'receiving', 'the', 'position', ',', 'I', 'went', 'to', 'visit', 'my', 'colleague', ',', 'former', 'Regional', 'Controller', ',', '\\n\\n', 'who', 'was', 'promoted', 'to', 'Country', 'CEO', 'and', 'now', 'had', 'interest', 'conflicts', 'of', 'being', 'the', 'controller', '.', '\\n\\n', 'The', 'process', 'to', 'consolidate', 'the', 'information', 'of', 'the', '4', 'countries', 'was', 'that', 'the', 'country', 'controllers', '\\n\\n', 'sent', 'him', 'an', 'email', 'with', 'the', 'main', 'figures', 'for', 'the', 'week', ',', 'he', 'forwarded', 'those', 'to', 'his', 'country', '\\n\\n', 'accountant', 'who', 'consolidated', 'it', ',', 'the', 'accountant', 'sent', 'him', 'the', 'consolidated', 'report', 'and', 'he', '\\n\\n', 'finally', 'reported', 'to', 'the', 'headquarters', '.', 'The', 'whole', 'process', 'took', 'almost', 'a', 'full', 'business', 'day', 'to', '\\n\\n', 'complete', '.', '\\n\\n', 'Given', 'that', 'my', 'responsibilities', 'as', 'Country', 'CFO', 'demanded', 'more', 'attention', 'because', 'my', '\\n\\n', 'country', 'had', 'more', 'operations', ',', 'I', 'decided', 'to', 'change', 'the', 'process', 'in', 'order', 'to', 'reduce', 'the', '\\n\\n', 'duration', 'and', 'to', 'ensure', 'standardization', 'in', 'the', 'format', ',', 'and', 'actually', ',', 'reduce', 'the', 'human', '\\n\\n', 'intervention', ',', 'making', 'that', 'the', 'country', 'controllers', 'work', 'directly', 'in', 'the', 'consolidation', 'file', '.', '\\n\\n', 'Selection', '\\n\\n', 'Having', 'in', 'mind', 'that', 'there', 'was', 'a', 'different', 'kind', 'of', 'users', 'of', 'file', ',', 'I', 'select', 'some', 'of', 'those', 'to', '\\n\\n', 'determine', 'what', 'was', 'the', 'main', 'important', 'things', 'to', 'take', 'into', 'account', 'in', 'the', 'moment', 'of', 'the', '\\n\\n', 'process', 'of', 'the', 'information', 'and', 'the', 'reading', 'of', 'the', 'same', '.', 'In', 'that', 'sense', ',', 'we', 'form', 'a', 'group', 'of', '\\n\\n', 'the', 'country', 'controllers', ',', 'country', 'CEOs', ',', 'IT', 'guys', ',', 'and', 'people', 'from', 'the', 'headquarters', 'to', 'find', 'the', '\\n\\n', 'best', 'solutions', 'possible', '.', '\\n\\n', 'Application', '\\n\\n', 'For', 'the', 'first', 'lunch', ',', 'we', 'focused', 'on', 'the', 'consolidation', 'process', 'in', 'order', 'to', 'avoid', 'the', 'copy', '-', 'paste', '\\n\\n', 'processes', 'and', 'reducing', 'the', 'manual', 'intervention', 'so', ',', 'we', 'build', 'an', 'online', 'application', 'where', 'all', '\\n\\n', 'the', 'controllers', 'fill', 'the', 'figure', 'of', 'their', 'respective', 'country', ',', 'along', 'with', 'the', 'comments', '.', 'During', 'the', '\\n\\n', 'first', 'week', 'of', 'the', 'first', 'stage', ',', 'we', 'sent', 'the', 'new', 'report', 'along', 'with', 'the', 'old', 'one', ',', 'and', 'after', 'the', '\\n\\n', 'meeting', 'with', 'the', 'headquarters', 'team', ',', 'we', 'ask', 'for', 'a', 'post', '-', 'meeting', 'review', 'of', 'the', 'new', 'format', ',', 'all', '\\n\\n', 'the', 'assistants', 'provided', 'their', 'comments', 'and', 'suggestions', 'that', 'were', 'the', 'input', 'for', 'the', 'next', '\\n\\n', 'report', '.', '\\n\\n', 'For', 'the', 'second', 'lunch', ',', 'we', 'focused', 'on', 'the', 'feedback', 'received', 'from', 'the', 'assistants', 'to', 'the', 'review', '\\n\\n', 'meeting', ',', 'we', 'adjust', 'the', 'report', 'and', 'we', 'were', 'able', 'to', 'eliminate', 'the', 'old', 'one', '.', 'The', 'final', 'report', '\\n\\n', 'included', 'all', 'the', 'suggestions', 'received', 'but', 'the', 'best', 'of', 'all', 'is', 'that', 'reduced', 'the', 'time', 'investment', '\\n\\n', 'from', 'about', '36', 'men', 'hours', 'to', 'around', '8', ',', 'without', 'missing', 'any', 'valuable', 'information', 'and', '\\n\\n', 'including', 'new', 'data', 'that', 'the', 'stakeholders', 'appreciated', 'so', 'much', '.', '\\n\\n', 'Insight', '\\n\\n', 'With', 'the', 'application', 'of', 'the', 'learning', 'launch', 'tool', ',', 'the', 'controller', '’s', 'team', 'along', 'with', 'the', 'main', '\\n\\n', 'stakeholders', 'identified', 'different', 'assumptions', 'and', 'designed', 'tools', 'to', 'test', 'these', 'assumptions', '.', '\\n\\n', 'On', 'the', 'other', 'hand', ',', 'we', 'found', 'probable', 'requirements', 'from', 'headquarters', ',', 'expecting', 'to', 'find', '\\n\\n', 'that', 'a', 'more', 'agile', 'approach', 'that', 'improved', 'the', 'workflow', ',', 'reduced', 'the', 'time', 'investment', 'of', '\\n\\n', 'everyone', 'in', 'the', 'team', 'and', 'that', 'both', 'our', 'team', 'and', 'the', 'key', 'stakeholders', 'were', 'very', 'satisfied', '\\n\\n', 'with', 'the', 'results', 'of', 'the', 'exercise', 'and', 'the', 'new', 'report', '.', '\\n\\n', 'The', 'final', 'report', 'was', 'slightly', 'different', 'from', 'what', 'we', 'anticipated', ',', 'but', 'the', 'differences', 'were', '\\n\\n', 'more', 'related', 'to', 'form', 'and', 'a', 'few', 'topics', 'to', 'be', 'included', 'in', 'the', 'report', '.', '\\n\\n', 'Approach', '\\n\\n', 'Despite', 'that', ',', 'the', 'team', 'was', 'not', 'used', 'to', 'design', 'thinking', 'tools', ',', 'they', 'were', 'able', 'to', 'work', 'with', 'the', '\\n\\n', 'learning', 'launch', 'that', 'was', 'the', 'appropriate', 'tool', '.', 'The', 'team', 'needs', 'to', 'review', 'the', 'insight', 'gained', '\\n\\n', 'from', 'our', 'first', 'two', 'launches', 'and', 'continuously', 'evaluate', 'this', 'insight', 'and', 'new', 'ones', 'into', 'future', '\\n\\n', 'launch', 'designs', ',', 'especially', 'taking', 'into', 'account', 'that', 'the', 'full', 'automation', 'of', 'the', 'reports', 'will', 'take', '\\n\\n', 'at', 'least', '4', 'years', 'more', 'according', 'to', 'the', 'ERP', 'implementation', 'plan', 'of', 'the', 'headquarter', '.', '\\n\\n'], 'trailing_whitespace': [True, False, False, True, True, False, False, False, False, True, True, True, True, True, True, True, True, False, True, True, True, True, True, True, False, False, True, False, True, True, True, True, True, True, True, True, True, True, True, True, True, False, False, True, True, True, True, True, True, True, True, True, True, True, True, True, True, True, False, False, False, False, False, True, True, True, True, True, False, True, True, True, True, True, True, False, True, True, True, False, False, False, True, True, True, True, True, True, True, True, True, True, True, True, True, True, False, False, False, True, True, True, True, True, True, True, True, True, True, True, True, True, True, False, False, True, True, True, True, True, True, True, True, True, True, False, True, True, True, True, True, True, False, False, True, True, True, False, True, True, True, True, True, True, True, True, True, False, False, True, True, True, True, False, True, True, True, True, True, True, True, True, True, True, False, False, False, False, False, True, True, True, True, True, True, True, True, True, True, True, False, False, True, True, True, False, True, True, True, True, True, True, True, True, True, True, True, False, False, True, True, True, True, True, True, True, False, True, True, False, True, True, True, False, False, False, True, True, True, True, True, True, True, True, True, True, True, False, False, False, False, False, True, True, True, True, True, True, True, True, True, True, True, True, False, True, True, True, True, True, True, False, False, True, True, True, True, True, True, True, True, True, True, True, True, True, True, True, False, False, True, True, True, True, True, True, True, True, True, False, True, True, True, False, True, True, True, True, True, False, False, True, True, False, True, True, False, True, True, False, True, True, True, True, True, True, True, True, False, False, True, True, False, False, False, False, False, True, True, True, False, True, True, True, True, True, True, True, True, True, True, True, True, False, False, False, False, True, True, True, True, True, True, False, True, True, True, True, True, True, True, False, False, True, True, True, True, True, True, True, True, False, True, True, True, True, False, True, True, False, False, True, True, True, True, True, False, True, True, True, True, True, True, True, True, True, True, False, True, True, True, False, False, True, True, True, True, False, True, True, True, True, True, False, False, True, True, True, True, True, False, True, False, False, True, True, True, True, True, True, True, True, True, True, True, True, True, False, False, False, False, False, True, True, True, False, True, True, True, True, True, True, True, True, True, True, True, True, False, False, False, True, True, True, True, True, True, True, True, True, True, True, True, True, False, True, True, True, False, False, True, True, True, True, True, True, True, True, True, True, True, True, True, True, True, False, False, True, True, True, True, True, True, True, False, True, True, True, True, True, True, False, False, True, True, True, True, True, True, True, True, False, False, False, False, False, True, True, True, True, True, True, True, False, True, True, False, True, True, True, True, True, False, False, True, True, True, True, True, True, True, True, True, True, False, False, False, True, True, True, False, True, True, True, True, True, True, False, True, True, True, False, False, True, True, True, True, True, True, True, True, False, True, True, True, True, True, False, False, True, True, True, True, True, True, True, True, True, True, True, True, True, True, True, False, False, True, True, True, True, True, True, True, True, True, False, False, False, True, True, True, True, True, True, True, True, True, False, True, True, True, True, False, False, True, True, True, True, True, True, True, True, True, True, True, True, True, False, False, False, False, False, True, False, True, True, True, True, True, True, True, True, True, False, True, True, True, True, True, True, True, False, False, True, True, True, True, True, True, False, True, True, True, True, True, True, True, True, False, False, True, True, True, True, True, True, True, True, True, True, True, True, True, True, False, False, True, False, True, True, True, True, True, True, True, True, True, True, True, True, True, False, False, True, True, True, True, True, True, True, True, True, True, True, True, True, False, False, False], 'labels': ['O', 'O', 'O', 'O', 'B-NAME_STUDENT', 'I-NAME_STUDENT', 'O', 'O', 'O', 'O', 'O', 'O', 'O', 'O', 'O', 'O', 'O', 'O', 'O', 'O', 'O', 'O', 'O', 'O', 'O', 'O', 'O', 'O', 'O', 'O', 'O', 'O', 'O', 'O', 'O', 'O', 'O', 'O', 'O', 'O', 'O', 'O', 'O', 'O', 'O', 'O', 'O', 'O', 'O', 'O', 'O', 'O', 'O', 'O', 'O', 'O', 'O', 'O', 'O', 'O', 'O', 'O', 'O', 'O', 'O', 'O', 'O', 'O', 'O', 'O', 'O', 'O', 'O', 'O', 'O', 'O', 'O', 'O', 'O', 'O', 'O', 'O', 'O', 'O', 'O', 'O', 'O', 'O', 'O', 'O', 'O', 'O', 'O', 'O', 'O', 'O', 'O', 'O', 'O', 'O', 'O', 'O', 'O', 'O', 'O', 'O', 'O', 'O', 'O', 'O', 'O', 'O', 'O', 'O', 'O', 'O', 'O', 'O', 'O', 'O', 'O', 'O', 'O', 'O', 'O', 'O', 'O', 'O', 'O', 'O', 'O', 'O', 'O', 'O', 'O', 'O', 'O', 'O', 'O', 'O', 'O', 'O', 'O', 'O', 'O', 'O', 'O', 'O', 'O', 'O', 'O', 'O', 'O', 'O', 'O', 'O', 'O', 'O', 'O', 'O', 'O', 'O', 'O', 'O', 'O', 'O', 'O', 'O', 'O', 'O', 'O', 'O', 'O', 'O', 'O', 'O', 'O', 'O', 'O', 'O', 'O', 'O', 'O', 'O', 'O', 'O', 'O', 'O', 'O', 'O', 'O', 'O', 'O', 'O', 'O', 'O', 'O', 'O', 'O', 'O', 'O', 'O', 'O', 'O', 'O', 'O', 'O', 'O', 'O', 'O', 'O', 'O', 'O', 'O', 'O', 'O', 'O', 'O', 'O', 'O', 'O', 'O', 'O', 'O', 'O', 'O', 'O', 'O', 'O', 'O', 'O', 'O', 'O', 'O', 'O', 'O', 'O', 'O', 'O', 'O', 'O', 'O', 'O', 'O', 'O', 'O', 'O', 'O', 'O', 'O', 'O', 'O', 'O', 'O', 'O', 'O', 'O', 'O', 'O', 'O', 'O', 'O', 'O', 'O', 'O', 'O', 'O', 'O', 'O', 'O', 'O', 'O', 'O', 'O', 'O', 'O', 'O', 'O', 'O', 'O', 'O', 'O', 'O', 'O', 'O', 'O', 'O', 'O', 'O', 'O', 'O', 'O', 'O', 'O', 'O', 'O', 'O', 'O', 'O', 'O', 'O', 'O', 'O', 'O', 'O', 'O', 'O', 'O', 'O', 'O', 'O', 'O', 'O', 'O', 'O', 'O', 'O', 'O', 'O', 'O', 'O', 'O', 'O', 'O', 'O', 'O', 'O', 'O', 'O', 'O', 'O', 'O', 'O', 'O', 'O', 'O', 'O', 'O', 'O', 'O', 'O', 'O', 'O', 'O', 'O', 'O', 'O', 'O', 'O', 'O', 'O', 'O', 'O', 'O', 'O', 'O', 'O', 'O', 'O', 'O', 'O', 'O', 'O', 'O', 'O', 'O', 'O', 'O', 'O', 'O', 'O', 'O', 'O', 'O', 'O', 'O', 'O', 'O', 'O', 'O', 'O', 'O', 'O', 'O', 'O', 'O', 'O', 'O', 'O', 'O', 'O', 'O', 'O', 'O', 'O', 'O', 'O', 'O', 'O', 'O', 'O', 'O', 'O', 'O', 'O', 'O', 'O', 'O', 'O', 'O', 'O', 'O', 'O', 'O', 'O', 'O', 'O', 'O', 'O', 'O', 'O', 'O', 'O', 'O', 'O', 'O', 'O', 'O', 'O', 'O', 'O', 'O', 'O', 'O', 'O', 'O', 'O', 'O', 'O', 'O', 'O', 'O', 'O', 'O', 'O', 'O', 'O', 'O', 'O', 'O', 'O', 'O', 'O', 'O', 'O', 'O', 'O', 'O', 'O', 'O', 'O', 'O', 'O', 'O', 'O', 'O', 'O', 'O', 'O', 'O', 'O', 'O', 'O', 'O', 'O', 'O', 'O', 'O', 'O', 'O', 'O', 'O', 'O', 'O', 'O', 'O', 'O', 'O', 'O', 'O', 'O', 'O', 'O', 'O', 'O', 'O', 'O', 'O', 'O', 'O', 'O', 'O', 'O', 'O', 'O', 'O', 'O', 'O', 'O', 'O', 'O', 'O', 'O', 'O', 'O', 'O', 'O', 'O', 'O', 'O', 'O', 'O', 'O', 'O', 'O', 'O', 'O', 'O', 'O', 'O', 'O', 'O', 'O', 'O', 'O', 'O', 'O', 'O', 'O', 'O', 'O', 'O', 'O', 'O', 'O', 'O', 'O', 'O', 'O', 'O', 'O', 'O', 'O', 'O', 'O', 'O', 'O', 'O', 'O', 'O', 'O', 'O', 'O', 'O', 'O', 'O', 'O', 'O', 'O', 'O', 'O', 'O', 'O', 'O', 'O', 'O', 'O', 'O', 'O', 'O', 'O', 'O', 'O', 'O', 'O', 'O', 'O', 'O', 'O', 'O', 'O', 'O', 'O', 'O', 'O', 'O', 'O', 'O', 'O', 'O', 'O', 'O', 'O', 'O', 'O', 'O', 'O', 'O', 'O', 'O', 'O', 'O', 'O', 'O', 'O', 'O', 'O', 'O', 'O', 'O', 'O', 'O', 'O', 'O', 'O', 'O', 'O', 'O', 'O', 'O', 'O', 'O', 'O', 'O', 'O', 'O', 'O', 'O', 'O', 'O', 'O', 'O', 'O', 'O', 'O', 'O', 'O', 'O', 'O', 'O', 'O', 'O', 'O', 'O', 'O', 'O', 'O', 'O', 'O', 'O', 'O', 'O', 'O', 'O', 'O', 'O', 'O', 'O', 'O', 'O', 'O', 'O', 'O', 'O', 'O', 'O', 'O', 'O', 'O', 'O', 'O', 'O', 'O', 'O', 'O', 'O', 'O', 'O', 'O', 'O', 'O', 'O', 'O', 'O', 'O', 'O', 'O', 'O', 'O', 'O', 'O', 'O', 'O', 'O', 'O', 'O', 'O', 'O', 'O', 'O', 'O', 'O', 'O', 'O', 'O', 'O', 'O', 'O', 'O', 'O', 'O', 'O', 'O', 'O', 'O', 'O', 'O', 'O', 'O']}\n"
     ]
    },
    {
     "data": {
      "application/vnd.jupyter.widget-view+json": {
       "model_id": "d20ceb5ca3d94e7b90fca13961f369bf",
       "version_major": 2,
       "version_minor": 0
      },
      "text/plain": [
       "Filter (num_proc=2):   0%|          | 0/6807 [00:00<?, ? examples/s]"
      ]
     },
     "metadata": {},
     "output_type": "display_data"
    },
    {
     "data": {
      "application/vnd.jupyter.widget-view+json": {
       "model_id": "dad8f9eae7374322b237affd3eb5c7be",
       "version_major": 2,
       "version_minor": 0
      },
      "text/plain": [
       "Map (num_proc=2):   0%|          | 0/2084 [00:00<?, ? examples/s]"
      ]
     },
     "metadata": {},
     "output_type": "display_data"
    },
    {
     "data": {
      "application/vnd.jupyter.widget-view+json": {
       "model_id": "4af0e3bd0e1041959c3d269d3a5a028e",
       "version_major": 2,
       "version_minor": 0
      },
      "text/plain": [
       "Downloading builder script:   0%|          | 0.00/6.34k [00:00<?, ?B/s]"
      ]
     },
     "metadata": {},
     "output_type": "display_data"
    },
    {
     "data": {
      "application/vnd.jupyter.widget-view+json": {
       "model_id": "c28578ae844a4783be912d34cb4d3e68",
       "version_major": 2,
       "version_minor": 0
      },
      "text/plain": [
       "pytorch_model.bin:   0%|          | 0.00/874M [00:00<?, ?B/s]"
      ]
     },
     "metadata": {},
     "output_type": "display_data"
    },
    {
     "name": "stderr",
     "output_type": "stream",
     "text": [
      "D:\\anaconda3\\lib\\site-packages\\huggingface_hub\\file_download.py:147: UserWarning: `huggingface_hub` cache-system uses symlinks by default to efficiently store duplicated files but your machine does not support them in C:\\Users\\cytan\\.cache\\huggingface\\hub. Caching files will still work but in a degraded version that might require more space on your disk. This warning can be disabled by setting the `HF_HUB_DISABLE_SYMLINKS_WARNING` environment variable. For more details, see https://huggingface.co/docs/huggingface_hub/how-to-cache#limitations.\n",
      "To support symlinks on Windows, you either need to activate Developer Mode or to run Python as an administrator. In order to see activate developer mode, see this article: https://docs.microsoft.com/en-us/windows/apps/get-started/enable-your-device-for-development\n",
      "  warnings.warn(message)\n",
      "D:\\anaconda3\\lib\\site-packages\\torch\\_utils.py:831: UserWarning: TypedStorage is deprecated. It will be removed in the future and UntypedStorage will be the only storage class. This should only matter to you if you are using storages directly.  To access UntypedStorage directly, use tensor.untyped_storage() instead of tensor.storage()\n",
      "  return self.fget.__get__(instance, owner)()\n",
      "Some weights of DebertaV2ForTokenClassification were not initialized from the model checkpoint at microsoft/deberta-v3-large and are newly initialized: ['classifier.bias', 'classifier.weight']\n",
      "You should probably TRAIN this model on a down-stream task to be able to use it for predictions and inference.\n"
     ]
    },
    {
     "name": "stdout",
     "output_type": "stream",
     "text": [
      "Before training\n"
     ]
    },
    {
     "name": "stderr",
     "output_type": "stream",
     "text": [
      "D:\\anaconda3\\lib\\site-packages\\torch\\utils\\checkpoint.py:429: UserWarning: torch.utils.checkpoint: please pass in use_reentrant=True or use_reentrant=False explicitly. The default value of use_reentrant will be updated to be False in the future. To maintain current behavior, pass use_reentrant=True. It is recommended that you use use_reentrant=False. Refer to docs for more details on the differences between the two variants.\n",
      "  warnings.warn(\n"
     ]
    },
    {
     "data": {
      "text/html": [
       "\n",
       "    <div>\n",
       "      \n",
       "      <progress value='209' max='209' style='width:300px; height:20px; vertical-align: middle;'></progress>\n",
       "      [209/209 11:13:29, Epoch 1/1]\n",
       "    </div>\n",
       "    <table border=\"1\" class=\"dataframe\">\n",
       "  <thead>\n",
       " <tr style=\"text-align: left;\">\n",
       "      <th>Epoch</th>\n",
       "      <th>Training Loss</th>\n",
       "      <th>Validation Loss</th>\n",
       "      <th>Email Precision</th>\n",
       "      <th>Email Recall</th>\n",
       "      <th>Email F1</th>\n",
       "      <th>Email Number</th>\n",
       "      <th>Id Num Precision</th>\n",
       "      <th>Id Num Recall</th>\n",
       "      <th>Id Num F1</th>\n",
       "      <th>Id Num Number</th>\n",
       "      <th>Name Student Precision</th>\n",
       "      <th>Name Student Recall</th>\n",
       "      <th>Name Student F1</th>\n",
       "      <th>Name Student Number</th>\n",
       "      <th>Street Address Precision</th>\n",
       "      <th>Street Address Recall</th>\n",
       "      <th>Street Address F1</th>\n",
       "      <th>Street Address Number</th>\n",
       "      <th>Url Personal Precision</th>\n",
       "      <th>Url Personal Recall</th>\n",
       "      <th>Url Personal F1</th>\n",
       "      <th>Url Personal Number</th>\n",
       "      <th>Overall Precision</th>\n",
       "      <th>Overall Recall</th>\n",
       "      <th>Overall F1</th>\n",
       "      <th>Overall Accuracy</th>\n",
       "    </tr>\n",
       "  </thead>\n",
       "  <tbody>\n",
       "    <tr>\n",
       "      <td>1</td>\n",
       "      <td>0.004000</td>\n",
       "      <td>0.003917</td>\n",
       "      <td>0.977778</td>\n",
       "      <td>1.000000</td>\n",
       "      <td>0.988764</td>\n",
       "      <td>44</td>\n",
       "      <td>1.000000</td>\n",
       "      <td>0.680000</td>\n",
       "      <td>0.809524</td>\n",
       "      <td>100</td>\n",
       "      <td>0.791429</td>\n",
       "      <td>0.926421</td>\n",
       "      <td>0.853621</td>\n",
       "      <td>299</td>\n",
       "      <td>0.000000</td>\n",
       "      <td>0.000000</td>\n",
       "      <td>0.000000</td>\n",
       "      <td>1</td>\n",
       "      <td>0.909091</td>\n",
       "      <td>0.666667</td>\n",
       "      <td>0.769231</td>\n",
       "      <td>225</td>\n",
       "      <td>0.858280</td>\n",
       "      <td>0.805680</td>\n",
       "      <td>0.831149</td>\n",
       "      <td>0.998834</td>\n",
       "    </tr>\n",
       "  </tbody>\n",
       "</table><p>"
      ],
      "text/plain": [
       "<IPython.core.display.HTML object>"
      ]
     },
     "metadata": {},
     "output_type": "display_data"
    },
    {
     "name": "stderr",
     "output_type": "stream",
     "text": [
      "D:\\anaconda3\\lib\\site-packages\\seqeval\\metrics\\v1.py:57: UndefinedMetricWarning: Precision and F-score are ill-defined and being set to 0.0 in labels with no predicted samples. Use `zero_division` parameter to control this behavior.\n",
      "  _warn_prf(average, modifier, msg_start, len(result))\n"
     ]
    }
   ],
   "source": [
    "if __name__ == \"__main__\":\n",
    "    training = True # be sure to turn internet off if doing inference\n",
    "\n",
    "    training_model_path = \"microsoft/deberta-v3-large\"\n",
    "    training_max_length = 512\n",
    "\n",
    "    # inference_model_path = \"/kaggle/input/pii-data-detection-baseline/output/checkpoint-240\" # replace with our own trained model\n",
    "    inference_model_path = r\"C:\\Users\\cytan\\Downloads\"\n",
    "    inference_max_length = 2000\n",
    "\n",
    "    # path_to_datasets = '/content/gdrive/SharedWithMe/EzKaggle2024/train.json'\n",
    "    path_to_datasets = [r'C:\\Users\\cytan\\Downloads\\pii-detection-removal-from-educational-data\\train.json'] # append path to other dataset json files to this list\n",
    "    model_save_path = r'C:\\Users\\cytan\\Downloads\\\\'\n",
    "\n",
    "    main(training, training_model_path, training_max_length, path_to_datasets, model_save_path)"
   ]
  }
 ],
 "metadata": {
  "kernelspec": {
   "display_name": "Python 3",
   "language": "python",
   "name": "python3"
  },
  "language_info": {
   "codemirror_mode": {
    "name": "ipython",
    "version": 3
   },
   "file_extension": ".py",
   "mimetype": "text/x-python",
   "name": "python",
   "nbconvert_exporter": "python",
   "pygments_lexer": "ipython3",
   "version": "3.8.8"
  }
 },
 "nbformat": 4,
 "nbformat_minor": 2
}
